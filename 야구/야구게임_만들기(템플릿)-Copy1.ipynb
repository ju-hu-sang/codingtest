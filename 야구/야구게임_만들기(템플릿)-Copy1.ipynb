{
 "cells": [
  {
   "cell_type": "markdown",
   "metadata": {
    "id": "lXwFSCPHjfWJ"
   },
   "source": [
    "## Role 1"
   ]
  },
  {
   "cell_type": "markdown",
   "metadata": {
    "id": "Ac3rSOwtjtDu"
   },
   "source": [
    "### 지정된 범위안의 난수를 필요한 갯수만큼 생성하는 함수 createRandomNumber을 만들어 보자\n",
    "###### 난수 만들기 참고 : https://www.w3schools.com/python/ref_random_randint.asp\n",
    "- 함수 입력인자 : 난수의 범위, 생성할 숫자 갯수\n",
    "- 함수 호출결과 : 정수형 난수가 들어있는 리스트"
   ]
  },
  {
   "cell_type": "code",
   "execution_count": 19,
   "metadata": {
    "id": "N1vhYXW1knTH"
   },
   "outputs": [
    {
     "name": "stdout",
     "output_type": "stream",
     "text": [
      "[39, 8, 2, 9, 33, 27, 5, 2, 34]\n",
      "[15, 16, 25, 16, 32, 27, 24, 32, 36]\n",
      "[33, 21, 1, 2, 34, 40, 12, 3, 37]\n"
     ]
    }
   ],
   "source": [
    "# createRandomNumber 함수를 정의해보시오.\n",
    "import random\n",
    "def createRandomNumber(cnt, rands):\n",
    "    rd_list = [0,0,0,0,0,0]\n",
    "    while isDuplicate(rd_list):\n",
    "        rd_list = []\n",
    "        for i in range(cnt):\n",
    "            rd_list.append(random.randint(1,rands))\n",
    "        print(rd_list)\n",
    "            \n",
    "        \n",
    "createRandomNumber(9,40) "
   ]
  },
  {
   "cell_type": "code",
   "execution_count": null,
   "metadata": {
    "id": "fJbnOg9zndSz"
   },
   "outputs": [],
   "source": [
    "# 함수호출(테스트) 코드작성\n"
   ]
  },
  {
   "cell_type": "markdown",
   "metadata": {
    "id": "qvtEmlaQjrLO"
   },
   "source": [
    "## Role 2"
   ]
  },
  {
   "cell_type": "markdown",
   "metadata": {
    "id": "qYAhaVGdi2wx"
   },
   "source": [
    "### 중복을 체크하는 함수 isDuplicate를 만들어 보자\n",
    "- 함수 입력인자 : 숫자가 들어간 리스트\n",
    "- 함수 호출결과 : 숫자 중복인 경우 True, 숫자 중복이 없는 경우 False"
   ]
  },
  {
   "cell_type": "code",
   "execution_count": 5,
   "metadata": {
    "id": "MNM6FcoYiTE3"
   },
   "outputs": [],
   "source": [
    "# isDuplicate 함수를 정의해보시오.\n",
    "def isDuplicate(test_li1):\n",
    "    return len(set(test_li1)) < len(test_li1)   # true면 중복 있는거"
   ]
  },
  {
   "cell_type": "code",
   "execution_count": 6,
   "metadata": {
    "id": "5PkWaNPfnbJL"
   },
   "outputs": [
    {
     "data": {
      "text/plain": [
       "False"
      ]
     },
     "execution_count": 6,
     "metadata": {},
     "output_type": "execute_result"
    }
   ],
   "source": [
    "test_li1 = [5,7,8,1] # 호출결과 : False\n",
    "test_li2 = [5,7,7,4] # 호출결과 : True\n",
    "\n",
    "# 함수호출(테스트) 코드작성\n",
    "isDuplicate(test_li1)"
   ]
  },
  {
   "cell_type": "markdown",
   "metadata": {
    "id": "jNMJrKZblqJs"
   },
   "source": [
    "## Role 3"
   ]
  },
  {
   "cell_type": "markdown",
   "metadata": {
    "id": "j4XwC-fVlsR1"
   },
   "source": [
    "### 게임진행 상황을 판단하는 함수 strikeBallCounting을 만들어 보자\n",
    "- 함수 입력인자 : 난수로 구성된 리스트, 사용자가 맞추기 위해 입력한 리스트\n",
    "- 함수 호출결과 : 스트라이크 갯수, 볼 갯수"
   ]
  },
  {
   "cell_type": "code",
   "execution_count": null,
   "metadata": {
    "id": "9FnyXWzwmc6Y"
   },
   "outputs": [],
   "source": [
    "# strikeBallCounting 함수를 정의해보시오.\n"
   ]
  },
  {
   "cell_type": "code",
   "execution_count": null,
   "metadata": {
    "id": "cM0T6y5unGjQ"
   },
   "outputs": [],
   "source": [
    "# 호출결과 : 1 strike 2 ball\n",
    "test_li1 = [5,7,8]\n",
    "test_li2 = [5,8,7]\n",
    "\n",
    "# 함수호출(테스트) 코드작성\n"
   ]
  },
  {
   "cell_type": "markdown",
   "metadata": {
    "id": "5VOJRg-5mmTS"
   },
   "source": [
    "## Role4"
   ]
  },
  {
   "cell_type": "markdown",
   "metadata": {
    "id": "CSSuUwXBmoYd"
   },
   "source": [
    "### 야구게임을 실행시켜주는 코드를 만들어보자\n",
    "- createRandomNumber, isDuplicate, strikeBallCounting는 더미함수로 제작하여 활용"
   ]
  },
  {
   "cell_type": "code",
   "execution_count": null,
   "metadata": {
    "id": "Lwx0SyeWpBF3"
   },
   "outputs": [],
   "source": [
    "def createRandomNumber(low,high,cnt) :\n",
    "  return [16,45,33]\n",
    "\n",
    "def isDuplicate(input_list) :\n",
    "  return False\n",
    "\n",
    "def strikeBallCounting(random_list, input_list) :\n",
    "  return 1,2"
   ]
  },
  {
   "cell_type": "code",
   "execution_count": null,
   "metadata": {
    "id": "c4HJtgrnmsuy"
   },
   "outputs": [],
   "source": [
    "# 게임코드 작성\n",
    "print(\"==GameStart==\")\n"
   ]
  }
 ],
 "metadata": {
  "colab": {
   "provenance": []
  },
  "kernelspec": {
   "display_name": "Python 3 (ipykernel)",
   "language": "python",
   "name": "python3"
  },
  "language_info": {
   "codemirror_mode": {
    "name": "ipython",
    "version": 3
   },
   "file_extension": ".py",
   "mimetype": "text/x-python",
   "name": "python",
   "nbconvert_exporter": "python",
   "pygments_lexer": "ipython3",
   "version": "3.12.7"
  }
 },
 "nbformat": 4,
 "nbformat_minor": 4
}
